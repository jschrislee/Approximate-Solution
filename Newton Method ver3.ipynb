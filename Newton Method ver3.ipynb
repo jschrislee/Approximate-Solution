{
 "cells": [
  {
   "cell_type": "code",
   "execution_count": 1,
   "metadata": {},
   "outputs": [
    {
     "name": "stdout",
     "output_type": "stream",
     "text": [
      "xintercept of x=1 :  0.5\n",
      "0.4\n",
      "xintercept of x=  0.5 : 0.4\n",
      "0.38260869565217387\n",
      "xintercept of x=  0.4 : 0.38260869565217387\n",
      "0.3819669047792692\n",
      "xintercept of x=  0.38260869565217387 : 0.3819669047792692\n",
      "0.3819660112518383\n",
      "xintercept of x=  0.3819669047792692 : 0.3819660112518383\n",
      "0.38196601125010515\n",
      "xintercept of x=  0.3819660112518383 : 0.38196601125010515\n",
      "0.38196601125010515\n",
      "xintercept of x=  0.38196601125010515 : 0.38196601125010515\n",
      "0.38196601125010515\n",
      "xintercept of x=  0.38196601125010515 : 0.38196601125010515\n",
      "0.38196601125010515\n",
      "xintercept of x=  0.38196601125010515 : 0.38196601125010515\n",
      "0.38196601125010515\n",
      "xintercept of x=  0.38196601125010515 : 0.38196601125010515\n"
     ]
    }
   ],
   "source": [
    "import numpy as np\n",
    "from matplotlib import pyplot as plt\n",
    "\n",
    "def f(x): \n",
    "    return x**3 - 3 * x**2 + x\n",
    "def fprime(x) :\n",
    "    return 3*x**2-6*x+1\n",
    "def xintercept(x) :\n",
    "    return -(f(x)/fprime(x))+x\n",
    "\n",
    "x = np.linspace(-1, 3, 4000)\n",
    "y = f(x)\n",
    "plt.plot(x, y)\n",
    "\n",
    "ax = plt.gca()\n",
    "ax.spines['bottom'].set_position(('data',0))\n",
    "ax.spines['left'].set_position(('data',0))\n",
    "\n",
    "for i in range(1,10) :\n",
    "    if i==1 : \n",
    "        plt.plot(1, f(1), 'ro')\n",
    "        plt.plot(x, fprime(1)*(x-1)+f(1), 'r--')\n",
    "        print('xintercept of x=1 : ', xintercept(1))\n",
    "        t=xintercept(1)\n",
    "    \n",
    "    print(xintercept(t))\n",
    "    plt.plot(t, f(t), 'ro')\n",
    "    plt.plot(x, fprime(t)*(x-t)+f(t), 'r--')\n",
    "    print('xintercept of x= ', t, ':', xintercept(t))\n",
    "    t=xintercept(t)"
   ]
  }
 ],
 "metadata": {
  "kernelspec": {
   "display_name": "Python 3",
   "language": "python",
   "name": "python3"
  },
  "language_info": {
   "codemirror_mode": {
    "name": "ipython",
    "version": 3
   },
   "file_extension": ".py",
   "mimetype": "text/x-python",
   "name": "python",
   "nbconvert_exporter": "python",
   "pygments_lexer": "ipython3",
   "version": "3.6.4"
  }
 },
 "nbformat": 4,
 "nbformat_minor": 2
}
