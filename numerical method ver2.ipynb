{
 "cells": [
  {
   "cell_type": "code",
   "execution_count": 2,
   "metadata": {},
   "outputs": [
    {
     "name": "stdout",
     "output_type": "stream",
     "text": [
      "f(x) = x**3\n",
      "Enter the minimum of x-range: -3\n",
      "Enter the maximum of x-range: 4.5\n",
      "-1.6410613388100322e-81\n"
     ]
    },
    {
     "data": {
      "image/png": "[encoded data removed]",
      "text/plain": [
       "<matplotlib.figure.Figure at 0x23cfbd749e8>"
      ]
     },
     "metadata": {},
     "output_type": "display_data"
    }
   ],
   "source": [
    "import numpy as np\n",
    "from matplotlib import pyplot as mplp\n",
    "\n",
    "def f(t) :\n",
    "    return t**3\n",
    "\n",
    "print('f(x) = x**3')\n",
    "\n",
    "def draw_graph(x,y) :\n",
    "    mplp.plot(x,y)\n",
    "    mplp.xlabel('x-coordinate')\n",
    "    mplp.ylabel('y-coordinate')\n",
    "    mplp.title('n-function graph')\n",
    "    \n",
    "def xrange(start, final, interval) :\n",
    "    numbers = []\n",
    "    while start < final :\n",
    "        numbers.append(start)\n",
    "        start += interval\n",
    "    return numbers\n",
    "\n",
    "def make_x_y(xmin, xmax) :\n",
    "    x = xrange(xmin, xmax, 0.001)\n",
    "    y = []\n",
    "    for t in x :\n",
    "        a = f(t)\n",
    "        y.append(a)\n",
    "    draw_graph(x, y) \n",
    "\n",
    "def hal(b,a) :\n",
    "    n = 1\n",
    "    c = 0\n",
    "    mplp.scatter(a,f(a), s = 20, color = 'g')\n",
    "    mplp.scatter(b,f(b), s = 20, color = 'g')\n",
    "    while a != b and n < 100000 and f(a) != f(b) :\n",
    "        c = a - f(a) * (a - b)/(f(a) - f(b))\n",
    "        mplp.scatter(c,f(c), s = 20, color = 'g')\n",
    "        b = a\n",
    "        a = c\n",
    "        n += 1\n",
    "    return c\n",
    "\n",
    "if __name__ == \"__main__\" :\n",
    "    try:\n",
    "        xmin = float(input('Enter the minimum of x-range: '))\n",
    "        xmax = float(input('Enter the maximum of x-range: '))\n",
    "    except ValueError :\n",
    "        print('You entered an invalid input')\n",
    "    else :\n",
    "        print(hal(xmin,xmax))\n",
    "        make_x_y(xmin, xmax)\n",
    "        mplp.show()\n"
   ]
  },
  {
   "cell_type": "code",
   "execution_count": null,
   "metadata": {},
   "outputs": [],
   "source": []
  }
 ],
 "metadata": {
  "kernelspec": {
   "display_name": "Python 3",
   "language": "python",
   "name": "python3"
  },
  "language_info": {
   "codemirror_mode": {
    "name": "ipython",
    "version": 3
   },
   "file_extension": ".py",
   "mimetype": "text/x-python",
   "name": "python",
   "nbconvert_exporter": "python",
   "pygments_lexer": "ipython3",
   "version": "3.6.4"
  }
 },
 "nbformat": 4,
 "nbformat_minor": 2
}
