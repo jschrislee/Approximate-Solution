{
 "cells": [
  {
   "cell_type": "code",
   "execution_count": 2,
   "metadata": {},
   "outputs": [
    {
     "name": "stdout",
     "output_type": "stream",
     "text": [
      "f(x) = x**3\n",
      "Enter the minimum of x-range: -5\n",
      "Enter the maximum of x-range: 4\n",
      "-3.2626522339992623e-55\n"
     ]
    },
    {
     "data": {
      "image/png": "[encoded data removed]",
      "text/plain": [
       "<matplotlib.figure.Figure at 0x2bb9fdcccf8>"
      ]
     },
     "metadata": {},
     "output_type": "display_data"
    }
   ],
   "source": [
    "import numpy as np\n",
    "from matplotlib import pyplot as mplp\n",
    "\n",
    "def f(x) :\n",
    "    return x**3\n",
    "\n",
    "print('f(x) = x**3')\n",
    "\n",
    "def draw_graph(x,y) :\n",
    "    mplp.plot(x,y)\n",
    "    mplp.xlabel('x-coordinate')\n",
    "    mplp.ylabel('y-coordinate')\n",
    "    mplp.title('n-function graph')\n",
    "    \n",
    "def xrange(start, final, interval) :\n",
    "    numbers = []\n",
    "    while start < final :\n",
    "        numbers.append(start)\n",
    "        start += interval\n",
    "    return numbers\n",
    "\n",
    "def make_x_y(xmin, xmax) :\n",
    "    x = xrange(xmin, xmax, 0.001)\n",
    "    y = []\n",
    "    for t in x :\n",
    "        a = f(t)\n",
    "        y.append(a)\n",
    "    draw_graph(x, y) \n",
    "\n",
    "def divid(xmin,xmax) :\n",
    "    mplp.scatter(xmin,f(xmin), s = 50, color = 'r')\n",
    "    mplp.scatter(xmax,f(xmax), s = 50, color = 'b')\n",
    "    while xmin != xmax :\n",
    "        b = (xmin + xmax)/2\n",
    "        a = f(b)\n",
    "        if a * f(xmin) < 0 :\n",
    "            xmax = b\n",
    "        elif a * f(xmax) < 0 :\n",
    "            xmin = b\n",
    "        elif a * f(xmax) == 0 :\n",
    "            mplp.scatter(b,a, s = 50, color = 'g')\n",
    "            return b\n",
    "        else :\n",
    "            return 'no equation'\n",
    "        mplp.scatter(xmin,f(xmin), s = 50, color = 'r')\n",
    "        mplp.scatter(xmax,f(xmax), s = 50, color = 'b')\n",
    "    \n",
    "    return xmax\n",
    "\n",
    "if __name__ == \"__main__\" :\n",
    "    try:\n",
    "        xmin = float(input('Enter the minimum of x-range: '))\n",
    "        xmax = float(input('Enter the maximum of x-range: '))\n",
    "    except ValueError :\n",
    "        print('You entered an invalid input')\n",
    "    else :\n",
    "        print(divid(xmin, xmax))\n",
    "        make_x_y(xmin, xmax)\n",
    "        mplp.show()\n"
   ]
  },
  {
   "cell_type": "code",
   "execution_count": null,
   "metadata": {},
   "outputs": [],
   "source": []
  }
 ],
 "metadata": {
  "kernelspec": {
   "display_name": "Python 3",
   "language": "python",
   "name": "python3"
  },
  "language_info": {
   "codemirror_mode": {
    "name": "ipython",
    "version": 3
   },
   "file_extension": ".py",
   "mimetype": "text/x-python",
   "name": "python",
   "nbconvert_exporter": "python",
   "pygments_lexer": "ipython3",
   "version": "3.6.4"
  }
 },
 "nbformat": 4,
 "nbformat_minor": 2
}
