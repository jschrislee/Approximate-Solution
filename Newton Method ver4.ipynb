{
 "cells": [
  {
   "cell_type": "code",
   "execution_count": 1,
   "metadata": {},
   "outputs": [
    {
     "name": "stdout",
     "output_type": "stream",
     "text": [
      "0.5\n",
      "0.4\n",
      "0.38260869565217387\n",
      "0.3819669047792692\n",
      "0.3819660112518383\n",
      "0.38196601125010515\n",
      "0.38196601125010515\n",
      "0.38196601125010515\n",
      "0.38196601125010515\n",
      "0.38196601125010515\n"
     ]
    }
   ],
   "source": [
    "def f(x): \n",
    "    return x**3 - 3 * x**2 + x\n",
    "def fprime(x) :\n",
    "    return 3*x**2-6*x+1\n",
    "def xintercept(x) :\n",
    "    return -(f(x)/fprime(x))+x\n",
    "\n",
    "for i in range(1,10) :\n",
    "    if i==1 : \n",
    "        print(xintercept(1))\n",
    "        t=xintercept(1)\n",
    "    print(xintercept(t))\n",
    "    t=xintercept(t)"
   ]
  }
 ],
 "metadata": {
  "kernelspec": {
   "display_name": "Python 3",
   "language": "python",
   "name": "python3"
  },
  "language_info": {
   "codemirror_mode": {
    "name": "ipython",
    "version": 3
   },
   "file_extension": ".py",
   "mimetype": "text/x-python",
   "name": "python",
   "nbconvert_exporter": "python",
   "pygments_lexer": "ipython3",
   "version": "3.6.4"
  }
 },
 "nbformat": 4,
 "nbformat_minor": 2
}
